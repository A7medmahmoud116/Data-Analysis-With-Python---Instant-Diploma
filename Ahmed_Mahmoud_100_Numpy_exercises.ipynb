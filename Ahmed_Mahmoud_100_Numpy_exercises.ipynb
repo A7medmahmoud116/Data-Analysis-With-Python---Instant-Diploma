{
  "cells": [
    {
      "cell_type": "markdown",
      "metadata": {
        "id": "3c1222ff"
      },
      "source": [
        "#### 1. Import the numpy package under the name `np` (★☆☆)"
      ],
      "id": "3c1222ff"
    },
    {
      "cell_type": "code",
      "execution_count": null,
      "metadata": {
        "id": "f52e6a0b"
      },
      "outputs": [],
      "source": [
        "import numpy as np"
      ],
      "id": "f52e6a0b"
    },
    {
      "cell_type": "markdown",
      "metadata": {
        "id": "9d9f4753"
      },
      "source": [
        "#### 2. Print the numpy version and the configuration (★☆☆)"
      ],
      "id": "9d9f4753"
    },
    {
      "cell_type": "code",
      "execution_count": null,
      "metadata": {
        "colab": {
          "base_uri": "https://localhost:8080/",
          "height": 36
        },
        "id": "b7fa5fa1",
        "outputId": "6ab054e8-8a27-4edc-8b3f-6dba0a77a1eb"
      },
      "outputs": [
        {
          "data": {
            "application/vnd.google.colaboratory.intrinsic+json": {
              "type": "string"
            },
            "text/plain": [
              "'1.23.5'"
            ]
          },
          "execution_count": 3,
          "metadata": {},
          "output_type": "execute_result"
        }
      ],
      "source": [
        "np.__version__"
      ],
      "id": "b7fa5fa1"
    },
    {
      "cell_type": "markdown",
      "metadata": {
        "id": "3e4c23c6"
      },
      "source": [
        "#### 3. Create a null vector of size 10 (★☆☆)"
      ],
      "id": "3e4c23c6"
    },
    {
      "cell_type": "code",
      "execution_count": null,
      "metadata": {
        "colab": {
          "base_uri": "https://localhost:8080/"
        },
        "id": "083c5c46",
        "outputId": "f82eba18-f2af-4ecc-fdaa-1791fc91da4a"
      },
      "outputs": [
        {
          "data": {
            "text/plain": [
              "array([5.05528123e-310, 0.00000000e+000, 0.00000000e+000, 0.00000000e+000,\n",
              "       0.00000000e+000, 6.64108274e-066, 1.16188963e+165, 5.28206026e-091,\n",
              "       1.10618148e-046, 4.34243033e-315])"
            ]
          },
          "execution_count": 2,
          "metadata": {},
          "output_type": "execute_result"
        }
      ],
      "source": [
        "np.empty(10)"
      ],
      "id": "083c5c46"
    },
    {
      "cell_type": "markdown",
      "metadata": {
        "id": "c38bbe82"
      },
      "source": [
        "#### 4. How to find the memory size of any array (★☆☆)"
      ],
      "id": "c38bbe82"
    },
    {
      "cell_type": "code",
      "execution_count": null,
      "metadata": {
        "colab": {
          "base_uri": "https://localhost:8080/"
        },
        "id": "02b04021",
        "outputId": "f92ca75c-da8f-42b9-b0b2-ee33a1f2559c"
      },
      "outputs": [
        {
          "data": {
            "text/plain": [
              "80"
            ]
          },
          "execution_count": 4,
          "metadata": {},
          "output_type": "execute_result"
        }
      ],
      "source": [
        "\n",
        "np.empty(10).size * np.empty(10).itemsize\n",
        "np.empty(10).nbytes"
      ],
      "id": "02b04021"
    },
    {
      "cell_type": "markdown",
      "metadata": {
        "id": "67f893d4"
      },
      "source": [
        "#### 5. How to get the documentation of the numpy add function from the command line? (★☆☆)"
      ],
      "id": "67f893d4"
    },
    {
      "cell_type": "code",
      "execution_count": null,
      "metadata": {
        "id": "40e6b70d"
      },
      "outputs": [],
      "source": [
        "np.add?"
      ],
      "id": "40e6b70d"
    },
    {
      "cell_type": "markdown",
      "metadata": {
        "id": "e0c739c6"
      },
      "source": [
        "#### 6. Create a null vector of size 10 but the fifth value which is 1 (★☆☆)"
      ],
      "id": "e0c739c6"
    },
    {
      "cell_type": "code",
      "execution_count": null,
      "metadata": {
        "colab": {
          "base_uri": "https://localhost:8080/"
        },
        "id": "bcceacf7",
        "outputId": "af7a63bf-b02c-4859-d93b-fcee68af36c8"
      },
      "outputs": [
        {
          "data": {
            "text/plain": [
              "array([None, None, None, None, 5, None, None, None, None, None],\n",
              "      dtype=object)"
            ]
          },
          "execution_count": 3,
          "metadata": {},
          "output_type": "execute_result"
        }
      ],
      "source": [
        "null=np.full(10,fill_value=None)\n",
        "null[4]=5\n",
        "null"
      ],
      "id": "bcceacf7"
    },
    {
      "cell_type": "markdown",
      "metadata": {
        "id": "fbebedab"
      },
      "source": [
        "#### 7. Create a vector with values ranging from 10 to 49 (★☆☆)"
      ],
      "id": "fbebedab"
    },
    {
      "cell_type": "code",
      "execution_count": null,
      "metadata": {
        "colab": {
          "base_uri": "https://localhost:8080/"
        },
        "id": "3d117d54",
        "outputId": "caf10b3c-6c5e-41d5-9796-dc81e30b743d"
      },
      "outputs": [
        {
          "data": {
            "text/plain": [
              "array([10, 11, 12, 13, 14, 15, 16, 17, 18, 19, 20, 21, 22, 23, 24, 25, 26,\n",
              "       27, 28, 29, 30, 31, 32, 33, 34, 35, 36, 37, 38, 39, 40, 41, 42, 43,\n",
              "       44, 45, 46, 47, 48])"
            ]
          },
          "execution_count": 9,
          "metadata": {},
          "output_type": "execute_result"
        }
      ],
      "source": [
        "arr=np.arange(10,49)\n",
        "arr"
      ],
      "id": "3d117d54"
    },
    {
      "cell_type": "markdown",
      "metadata": {
        "id": "ad0bff02"
      },
      "source": [
        "#### 8. Reverse a vector (first element becomes last) (★☆☆)"
      ],
      "id": "ad0bff02"
    },
    {
      "cell_type": "code",
      "execution_count": null,
      "metadata": {
        "colab": {
          "base_uri": "https://localhost:8080/"
        },
        "id": "22d23470",
        "outputId": "6e20b09e-7bb4-4857-f62b-943771ebd46c"
      },
      "outputs": [
        {
          "data": {
            "text/plain": [
              "array([48, 47, 46, 45, 44, 43, 42, 41, 40, 39, 38, 37, 36, 35, 34, 33, 32,\n",
              "       31, 30, 29, 28, 27, 26, 25, 24, 23, 22, 21, 20, 19, 18, 17, 16, 15,\n",
              "       14, 13, 12, 11, 10])"
            ]
          },
          "execution_count": 10,
          "metadata": {},
          "output_type": "execute_result"
        }
      ],
      "source": [
        "arr=arr[::-1]\n",
        "arr"
      ],
      "id": "22d23470"
    },
    {
      "cell_type": "markdown",
      "metadata": {
        "id": "9f59d7e1"
      },
      "source": [
        "#### 9. Create a 3x3 matrix with values ranging from 0 to 8 (★☆☆)"
      ],
      "id": "9f59d7e1"
    },
    {
      "cell_type": "code",
      "execution_count": null,
      "metadata": {
        "colab": {
          "base_uri": "https://localhost:8080/"
        },
        "id": "7449e82d",
        "outputId": "5c4e0759-a7f7-4706-d2fb-4abf676851aa"
      },
      "outputs": [
        {
          "data": {
            "text/plain": [
              "array([[2, 7, 5],\n",
              "       [7, 8, 8],\n",
              "       [8, 6, 1]])"
            ]
          },
          "execution_count": 12,
          "metadata": {},
          "output_type": "execute_result"
        }
      ],
      "source": [
        "arr=np.random.randint(0,9,9).reshape(3,3)\n",
        "arr"
      ],
      "id": "7449e82d"
    },
    {
      "cell_type": "markdown",
      "metadata": {
        "id": "f374c4cf"
      },
      "source": [
        "#### 10. Find indices of non-zero elements from [1,2,0,0,4,0] (★☆☆)"
      ],
      "id": "f374c4cf"
    },
    {
      "cell_type": "code",
      "execution_count": null,
      "metadata": {
        "colab": {
          "base_uri": "https://localhost:8080/"
        },
        "id": "1a84bed8",
        "outputId": "55449494-22a6-482e-b0e1-3a2c9a7caef4"
      },
      "outputs": [
        {
          "data": {
            "text/plain": [
              "(array([0, 1, 4]),)"
            ]
          },
          "execution_count": 6,
          "metadata": {},
          "output_type": "execute_result"
        }
      ],
      "source": [
        "np.nonzero(np.array([1,2,0,0,4,0]))"
      ],
      "id": "1a84bed8"
    },
    {
      "cell_type": "markdown",
      "metadata": {
        "id": "9c4707f5"
      },
      "source": [
        "#### 11. Create a 3x3 identity matrix (★☆☆)"
      ],
      "id": "9c4707f5"
    },
    {
      "cell_type": "code",
      "execution_count": null,
      "metadata": {
        "colab": {
          "base_uri": "https://localhost:8080/"
        },
        "id": "29dc1fd3",
        "outputId": "203f8306-849f-4ce5-ee5d-0796ad107a32"
      },
      "outputs": [
        {
          "data": {
            "text/plain": [
              "array([[1., 0., 0.],\n",
              "       [0., 1., 0.],\n",
              "       [0., 0., 1.]])"
            ]
          },
          "execution_count": 7,
          "metadata": {},
          "output_type": "execute_result"
        }
      ],
      "source": [
        "np.eye(3)"
      ],
      "id": "29dc1fd3"
    },
    {
      "cell_type": "markdown",
      "metadata": {
        "id": "3bac294a"
      },
      "source": [
        "#### 12. Create a 3x3x3 array with random values (★☆☆)"
      ],
      "id": "3bac294a"
    },
    {
      "cell_type": "code",
      "execution_count": null,
      "metadata": {
        "colab": {
          "base_uri": "https://localhost:8080/"
        },
        "id": "eadfae67",
        "outputId": "58355146-2636-4662-b5c7-9bbb492f3780"
      },
      "outputs": [
        {
          "data": {
            "text/plain": [
              "array([[[1, 4, 6],\n",
              "        [7, 5, 9],\n",
              "        [0, 6, 4]],\n",
              "\n",
              "       [[4, 4, 7],\n",
              "        [9, 5, 7],\n",
              "        [6, 9, 6]],\n",
              "\n",
              "       [[7, 8, 0],\n",
              "        [3, 4, 1],\n",
              "        [3, 3, 7]]])"
            ]
          },
          "execution_count": 14,
          "metadata": {},
          "output_type": "execute_result"
        }
      ],
      "source": [
        "arr=np.random.randint(0,10,27).reshape(3,3,3)\n",
        "arr"
      ],
      "id": "eadfae67"
    },
    {
      "cell_type": "markdown",
      "metadata": {
        "id": "466c2989"
      },
      "source": [
        "#### 13. Create a 10x10 array with random values and find the minimum and maximum values (★☆☆)"
      ],
      "id": "466c2989"
    },
    {
      "cell_type": "code",
      "execution_count": null,
      "metadata": {
        "colab": {
          "base_uri": "https://localhost:8080/"
        },
        "id": "9a74dbfc",
        "outputId": "11227fb5-708f-4297-835a-ff3de062ab29"
      },
      "outputs": [
        {
          "name": "stdout",
          "output_type": "stream",
          "text": [
            "[[8 2 3 6 5 4 4 9 2 4]\n",
            " [1 6 0 1 3 6 5 7 0 1]\n",
            " [6 9 7 0 8 5 0 4 4 0]\n",
            " [7 1 3 1 7 4 4 7 7 2]\n",
            " [4 0 1 1 8 1 3 1 4 4]\n",
            " [2 5 1 3 1 6 0 7 4 3]\n",
            " [5 0 3 7 2 6 0 1 5 8]\n",
            " [1 7 1 0 9 0 7 3 1 6]\n",
            " [3 7 7 9 2 3 3 5 8 0]\n",
            " [7 8 8 2 0 3 6 4 2 9]]\n",
            "0\n",
            "9\n"
          ]
        }
      ],
      "source": [
        "arr=np.random.randint(0,10,100).reshape(10,10)\n",
        "print(arr)\n",
        "print(np.min(arr))\n",
        "print(np.max(arr))"
      ],
      "id": "9a74dbfc"
    },
    {
      "cell_type": "markdown",
      "metadata": {
        "id": "53a8edb2"
      },
      "source": [
        "#### 14. Create a random vector of size 30 and find the mean value (★☆☆)"
      ],
      "id": "53a8edb2"
    },
    {
      "cell_type": "code",
      "execution_count": null,
      "metadata": {
        "colab": {
          "base_uri": "https://localhost:8080/"
        },
        "id": "6691530b",
        "outputId": "0b6cd5b7-29c7-4618-96f3-0dd2008176ee"
      },
      "outputs": [
        {
          "name": "stdout",
          "output_type": "stream",
          "text": [
            "[1 1 5 3 2 4 3 6 9 8 6 1 7 7 6 4 0 9 6 9 3 5 8 8 1 3 7 1 5 7]\n",
            "4.833333333333333\n"
          ]
        }
      ],
      "source": [
        "arr=np.random.randint(0,10,30)\n",
        "print(arr)\n",
        "print(np.mean(arr))"
      ],
      "id": "6691530b"
    },
    {
      "cell_type": "markdown",
      "metadata": {
        "id": "cbaad31c"
      },
      "source": [
        "#### 15. Create a 2d array with 1 on the border and 0 inside (★☆☆)"
      ],
      "id": "cbaad31c"
    },
    {
      "cell_type": "code",
      "execution_count": null,
      "metadata": {
        "colab": {
          "base_uri": "https://localhost:8080/"
        },
        "id": "ad8308e3",
        "outputId": "4a834fcc-7048-44e3-bbd8-9d0f6d2fb1b1"
      },
      "outputs": [
        {
          "data": {
            "text/plain": [
              "array([[1., 1., 1., 1., 1., 1., 1., 1., 1., 1.],\n",
              "       [1., 0., 0., 0., 0., 0., 0., 0., 0., 1.],\n",
              "       [1., 0., 0., 0., 0., 0., 0., 0., 0., 1.],\n",
              "       [1., 0., 0., 0., 0., 0., 0., 0., 0., 1.],\n",
              "       [1., 0., 0., 0., 0., 0., 0., 0., 0., 1.],\n",
              "       [1., 0., 0., 0., 0., 0., 0., 0., 0., 1.],\n",
              "       [1., 0., 0., 0., 0., 0., 0., 0., 0., 1.],\n",
              "       [1., 0., 0., 0., 0., 0., 0., 0., 0., 1.],\n",
              "       [1., 0., 0., 0., 0., 0., 0., 0., 0., 1.],\n",
              "       [1., 1., 1., 1., 1., 1., 1., 1., 1., 1.]])"
            ]
          },
          "execution_count": 11,
          "metadata": {},
          "output_type": "execute_result"
        }
      ],
      "source": [
        "a = np.ones((10,10))\n",
        "a[1:-1,1:-1]=0\n",
        "a"
      ],
      "id": "ad8308e3"
    },
    {
      "cell_type": "markdown",
      "metadata": {
        "id": "c5ecc267"
      },
      "source": [
        "#### 16. How to add a border (filled with 0's) around an existing array? (★☆☆)"
      ],
      "id": "c5ecc267"
    },
    {
      "cell_type": "code",
      "execution_count": null,
      "metadata": {
        "colab": {
          "base_uri": "https://localhost:8080/"
        },
        "id": "9d5c78c4",
        "outputId": "66d49228-d4cd-4d42-c6c5-9fca66d086de"
      },
      "outputs": [
        {
          "data": {
            "text/plain": [
              "array([[0., 0., 0., 0., 0., 0., 0., 0., 0.],\n",
              "       [0., 0., 0., 0., 0., 0., 0., 0., 0.],\n",
              "       [0., 0., 1., 1., 1., 1., 1., 0., 0.],\n",
              "       [0., 0., 1., 1., 1., 1., 1., 0., 0.],\n",
              "       [0., 0., 1., 1., 1., 1., 1., 0., 0.],\n",
              "       [0., 0., 1., 1., 1., 1., 1., 0., 0.],\n",
              "       [0., 0., 1., 1., 1., 1., 1., 0., 0.],\n",
              "       [0., 0., 0., 0., 0., 0., 0., 0., 0.],\n",
              "       [0., 0., 0., 0., 0., 0., 0., 0., 0.]])"
            ]
          },
          "execution_count": 14,
          "metadata": {},
          "output_type": "execute_result"
        }
      ],
      "source": [
        "a = np.ones((5,5))\n",
        "a = np.pad(a,2)\n",
        "a"
      ],
      "id": "9d5c78c4"
    },
    {
      "cell_type": "markdown",
      "metadata": {
        "id": "ef909b72"
      },
      "source": [
        "#### 17. What is the result of the following expression? (★☆☆)\n",
        "```python\n",
        "0 * np.nan\n",
        "np.nan == np.nan\n",
        "np.inf > np.nan\n",
        "np.nan - np.nan\n",
        "np.nan in set([np.nan])\n",
        "0.3 == 3 * 0.1\n",
        "```"
      ],
      "id": "ef909b72"
    },
    {
      "cell_type": "code",
      "execution_count": null,
      "metadata": {
        "colab": {
          "base_uri": "https://localhost:8080/"
        },
        "id": "3b4985f2",
        "outputId": "24f48a15-9b6f-4417-b914-79ab7903a8fe"
      },
      "outputs": [
        {
          "data": {
            "text/plain": [
              "False"
            ]
          },
          "execution_count": 21,
          "metadata": {},
          "output_type": "execute_result"
        }
      ],
      "source": [
        "False"
      ],
      "id": "3b4985f2"
    },
    {
      "cell_type": "markdown",
      "metadata": {
        "id": "502738ac"
      },
      "source": [
        "#### 18. Create a 5x5 matrix with values 1,2,3,4 just below the diagonal (★☆☆)"
      ],
      "id": "502738ac"
    },
    {
      "cell_type": "code",
      "execution_count": null,
      "metadata": {
        "colab": {
          "base_uri": "https://localhost:8080/"
        },
        "id": "faed6e2b",
        "outputId": "b68c2f86-a488-4456-9e95-435987d38605"
      },
      "outputs": [
        {
          "data": {
            "text/plain": [
              "array([[0., 0., 0., 0., 0.],\n",
              "       [1., 0., 0., 0., 0.],\n",
              "       [0., 2., 0., 0., 0.],\n",
              "       [0., 0., 3., 0., 0.],\n",
              "       [0., 0., 0., 4., 0.]])"
            ]
          },
          "execution_count": 23,
          "metadata": {},
          "output_type": "execute_result"
        }
      ],
      "source": [
        "arr=np.zeros(25).reshape(5,5)\n",
        "j=0\n",
        "k=1\n",
        "for i in range(1,5):\n",
        "  arr[i,j]=k\n",
        "  k+=1\n",
        "  j+=1\n",
        "arr"
      ],
      "id": "faed6e2b"
    },
    {
      "cell_type": "markdown",
      "metadata": {
        "id": "a65da660"
      },
      "source": [
        "#### 19. Create a 8x8 matrix and fill it with a checkerboard pattern (★☆☆)"
      ],
      "id": "a65da660"
    },
    {
      "cell_type": "code",
      "execution_count": null,
      "metadata": {
        "colab": {
          "base_uri": "https://localhost:8080/"
        },
        "id": "ed150400",
        "outputId": "e0785b29-3cd2-4bcd-f3c0-9bb4d0e981a7"
      },
      "outputs": [
        {
          "data": {
            "text/plain": [
              "array([[1., 0., 1., 0., 1., 0., 1., 0.],\n",
              "       [0., 1., 0., 1., 0., 1., 0., 1.],\n",
              "       [1., 0., 1., 0., 1., 0., 1., 0.],\n",
              "       [0., 1., 0., 1., 0., 1., 0., 1.],\n",
              "       [1., 0., 1., 0., 1., 0., 1., 0.],\n",
              "       [0., 1., 0., 1., 0., 1., 0., 1.],\n",
              "       [1., 0., 1., 0., 1., 0., 1., 0.],\n",
              "       [0., 1., 0., 1., 0., 1., 0., 1.]])"
            ]
          },
          "execution_count": 27,
          "metadata": {},
          "output_type": "execute_result"
        }
      ],
      "source": [
        "# black is 0\n",
        "# white is 1\n",
        "arr=np.zeros((8,8))\n",
        "arr[::2,::2]=1\n",
        "arr[1::2,1::2]=1\n",
        "arr"
      ],
      "id": "ed150400"
    },
    {
      "cell_type": "markdown",
      "metadata": {
        "id": "9f7f9c49"
      },
      "source": [
        "#### 20. Consider a (6,7,8) shape array, what is the index (x,y,z) of the 100th element? (★☆☆)"
      ],
      "id": "9f7f9c49"
    },
    {
      "cell_type": "code",
      "execution_count": null,
      "metadata": {
        "colab": {
          "base_uri": "https://localhost:8080/"
        },
        "id": "3782b5a9",
        "outputId": "40f355e8-aa46-4247-856a-684ab4ef61f0"
      },
      "outputs": [
        {
          "data": {
            "text/plain": [
              "(1, 5, 3)"
            ]
          },
          "execution_count": 29,
          "metadata": {},
          "output_type": "execute_result"
        }
      ],
      "source": [
        "arr=np.zeros((6,7,8))\n",
        "index=np.unravel_index(99,arr.shape)\n",
        "index"
      ],
      "id": "3782b5a9"
    },
    {
      "cell_type": "markdown",
      "metadata": {
        "id": "66bfda35"
      },
      "source": [
        "#### 21. Create a checkerboard 8x8 matrix using the tile function (★☆☆)"
      ],
      "id": "66bfda35"
    },
    {
      "cell_type": "code",
      "execution_count": null,
      "metadata": {
        "colab": {
          "base_uri": "https://localhost:8080/"
        },
        "id": "4c07477c",
        "outputId": "76dbb6c0-3837-4d1e-c464-183b0f5b7f8c"
      },
      "outputs": [
        {
          "data": {
            "text/plain": [
              "array([[0, 1, 0, 1, 0, 1, 0, 1],\n",
              "       [1, 0, 1, 0, 1, 0, 1, 0],\n",
              "       [0, 1, 0, 1, 0, 1, 0, 1],\n",
              "       [1, 0, 1, 0, 1, 0, 1, 0],\n",
              "       [0, 1, 0, 1, 0, 1, 0, 1],\n",
              "       [1, 0, 1, 0, 1, 0, 1, 0],\n",
              "       [0, 1, 0, 1, 0, 1, 0, 1],\n",
              "       [1, 0, 1, 0, 1, 0, 1, 0]])"
            ]
          },
          "execution_count": 35,
          "metadata": {},
          "output_type": "execute_result"
        }
      ],
      "source": [
        "b=np.array([[0,1],[1,0]])\n",
        "a=np.tile(b,(4,4))\n",
        "a"
      ],
      "id": "4c07477c"
    },
    {
      "cell_type": "markdown",
      "metadata": {
        "id": "d5bcfc08"
      },
      "source": [
        "#### 22. Normalize a 5x5 random matrix (★☆☆)"
      ],
      "id": "d5bcfc08"
    },
    {
      "cell_type": "code",
      "execution_count": null,
      "metadata": {
        "colab": {
          "base_uri": "https://localhost:8080/"
        },
        "id": "cea6c993",
        "outputId": "131b9b17-1d38-4d84-aad9-0e921a24a95a"
      },
      "outputs": [
        {
          "data": {
            "text/plain": [
              "array([[ 0.22871698, -0.72930394,  0.3208888 ,  0.54150988, -0.79230249],\n",
              "       [-0.54696943,  0.86383039,  1.63778666,  0.6148611 , -0.00365076],\n",
              "       [-1.18602051,  0.7835345 , -1.30843757,  0.07038351,  0.71665256],\n",
              "       [-0.68464894, -0.4496938 , -0.22613234, -1.23156256,  0.93990233],\n",
              "       [ 0.78570482,  1.27594411,  1.49976061, -0.85016958, -1.03941714]])"
            ]
          },
          "execution_count": 38,
          "metadata": {},
          "output_type": "execute_result"
        }
      ],
      "source": [
        "arr=np.random.normal(0,1,25)\n",
        "arr.reshape(5,5)"
      ],
      "id": "cea6c993"
    },
    {
      "cell_type": "markdown",
      "metadata": {
        "id": "f9a0911e"
      },
      "source": [
        "#### 23. Create a custom dtype that describes a color as four unsigned bytes (RGBA) (★☆☆)"
      ],
      "id": "f9a0911e"
    },
    {
      "cell_type": "code",
      "execution_count": null,
      "metadata": {
        "id": "d165044b"
      },
      "outputs": [],
      "source": [],
      "id": "d165044b"
    },
    {
      "cell_type": "markdown",
      "metadata": {
        "id": "654805b1"
      },
      "source": [
        "#### 24. Multiply a 5x3 matrix by a 3x2 matrix (real matrix product) (★☆☆)"
      ],
      "id": "654805b1"
    },
    {
      "cell_type": "code",
      "execution_count": null,
      "metadata": {
        "colab": {
          "base_uri": "https://localhost:8080/"
        },
        "id": "6a42619f",
        "outputId": "26962945-0893-4e84-f523-eef94be69795"
      },
      "outputs": [
        {
          "data": {
            "text/plain": [
              "array([[ 22,  28],\n",
              "       [ 49,  64],\n",
              "       [ 76, 100],\n",
              "       [103, 136],\n",
              "       [130, 172]])"
            ]
          },
          "execution_count": 2,
          "metadata": {},
          "output_type": "execute_result"
        }
      ],
      "source": [
        "import numpy as np\n",
        "m1=np.array([\n",
        "    [1,2,3],\n",
        "    [4,5,6],\n",
        "    [7,8,9],\n",
        "    [10,11,12],\n",
        "    [13,14,15]\n",
        "])\n",
        "m2=np.array([\n",
        "    [1,2],\n",
        "    [3,4],\n",
        "    [5,6]\n",
        "])\n",
        "a=np.dot(m1,m2)\n",
        "a"
      ],
      "id": "6a42619f"
    },
    {
      "cell_type": "markdown",
      "metadata": {
        "id": "994c25df"
      },
      "source": [
        "#### 25. Given a 1D array, negate all elements which are between 3 and 8, in place. (★☆☆)"
      ],
      "id": "994c25df"
    },
    {
      "cell_type": "code",
      "execution_count": null,
      "metadata": {
        "colab": {
          "base_uri": "https://localhost:8080/"
        },
        "id": "e4b39c03",
        "outputId": "b5587c29-8c4e-4f60-b0b8-076b0d4e4adb"
      },
      "outputs": [
        {
          "name": "stdout",
          "output_type": "stream",
          "text": [
            "[ 1  2  3 -4 -5 -6 -7  8  9 10]\n"
          ]
        }
      ],
      "source": [
        "arr=np.array([1,2,3,4,5,6,7,8,9,10])\n",
        "arr[(arr>3)&(arr<8)]*=-1\n",
        "print(arr)"
      ],
      "id": "e4b39c03"
    },
    {
      "cell_type": "markdown",
      "metadata": {
        "id": "b7d15d1a"
      },
      "source": [
        "#### 26. What is the output of the following script? (★☆☆)\n",
        "```python\n",
        "# Author: Jake VanderPlas\n",
        "\n",
        "print(sum(range(5),-1))\n",
        "from numpy import *\n",
        "print(sum(range(5),-1))\n",
        "```"
      ],
      "id": "b7d15d1a"
    },
    {
      "cell_type": "code",
      "execution_count": null,
      "metadata": {
        "colab": {
          "base_uri": "https://localhost:8080/"
        },
        "id": "4c95bc3f",
        "outputId": "4727412f-bacf-46a0-9481-0729943f8775"
      },
      "outputs": [
        {
          "data": {
            "text/plain": [
              "10"
            ]
          },
          "execution_count": 4,
          "metadata": {},
          "output_type": "execute_result"
        }
      ],
      "source": [
        "9\n",
        "10"
      ],
      "id": "4c95bc3f"
    },
    {
      "cell_type": "markdown",
      "metadata": {
        "id": "a34f0d08"
      },
      "source": [
        "#### 27. Consider an integer vector Z, which of these expressions are legal? (★☆☆)\n",
        "```python\n",
        "Z**Z\n",
        "2 << Z >> 2\n",
        "Z <- Z\n",
        "1j*Z\n",
        "Z/1/1\n",
        "Z<Z>Z\n",
        "```"
      ],
      "id": "a34f0d08"
    },
    {
      "cell_type": "code",
      "execution_count": null,
      "metadata": {
        "id": "564658fc"
      },
      "outputs": [],
      "source": [
        "#Z<Z>Z"
      ],
      "id": "564658fc"
    },
    {
      "cell_type": "markdown",
      "metadata": {
        "id": "c34e94bf"
      },
      "source": [
        "#### 28. What are the result of the following expressions? (★☆☆)\n",
        "```python\n",
        "np.array(0) / np.array(0)\n",
        "np.array(0) // np.array(0)\n",
        "np.array([np.nan]).astype(int).astype(float)\n",
        "```"
      ],
      "id": "c34e94bf"
    },
    {
      "cell_type": "code",
      "execution_count": null,
      "metadata": {
        "id": "56663562"
      },
      "outputs": [],
      "source": [
        "# nan\n",
        "# 0\n",
        "# array([none])"
      ],
      "id": "56663562"
    },
    {
      "cell_type": "markdown",
      "metadata": {
        "id": "546f5e7b"
      },
      "source": [
        "#### 29. How to round away from zero a float array ? (★☆☆)"
      ],
      "id": "546f5e7b"
    },
    {
      "cell_type": "code",
      "execution_count": null,
      "metadata": {
        "id": "f725a6d2"
      },
      "outputs": [],
      "source": [],
      "id": "f725a6d2"
    },
    {
      "cell_type": "markdown",
      "metadata": {
        "id": "eadca856"
      },
      "source": [
        "#### 30. How to find common values between two arrays? (★☆☆)"
      ],
      "id": "eadca856"
    },
    {
      "cell_type": "code",
      "execution_count": null,
      "metadata": {
        "colab": {
          "base_uri": "https://localhost:8080/"
        },
        "id": "e0270b5b",
        "outputId": "11e61c0d-f3b6-446e-ccd3-ac13366dca39"
      },
      "outputs": [
        {
          "data": {
            "text/plain": [
              "array([1, 2, 3, 4, 5, 6])"
            ]
          },
          "execution_count": 1,
          "metadata": {},
          "output_type": "execute_result"
        }
      ],
      "source": [
        "import numpy as np\n",
        "m1=np.array([\n",
        "    [1,2,3],\n",
        "    [4,5,6],\n",
        "    [7,8,9],\n",
        "    [10,11,12],\n",
        "    [13,14,15]\n",
        "])\n",
        "m2=np.array([\n",
        "    [1,2],\n",
        "    [3,4],\n",
        "    [5,6]\n",
        "])\n",
        "np.intersect1d(m1,m2)"
      ],
      "id": "e0270b5b"
    },
    {
      "cell_type": "markdown",
      "metadata": {
        "id": "ca16ca22"
      },
      "source": [
        "#### 31. How to ignore all numpy warnings (not recommended)? (★☆☆)"
      ],
      "id": "ca16ca22"
    },
    {
      "cell_type": "code",
      "execution_count": null,
      "metadata": {
        "id": "7d7208ef"
      },
      "outputs": [],
      "source": [
        "np.warnings.filterwarnings('ignore')"
      ],
      "id": "7d7208ef"
    },
    {
      "cell_type": "markdown",
      "metadata": {
        "id": "c7871d0d"
      },
      "source": [
        "#### 32. Is the following expressions true? (★☆☆)\n",
        "```python\n",
        "np.sqrt(-1) == np.emath.sqrt(-1)\n",
        "```"
      ],
      "id": "c7871d0d"
    },
    {
      "cell_type": "code",
      "execution_count": 46,
      "metadata": {
        "colab": {
          "base_uri": "https://localhost:8080/"
        },
        "id": "acc3701a",
        "outputId": "a21b7092-b9b6-4893-fa63-b8250edb28f3"
      },
      "outputs": [
        {
          "output_type": "execute_result",
          "data": {
            "text/plain": [
              "False"
            ]
          },
          "metadata": {},
          "execution_count": 46
        }
      ],
      "source": [
        "False"
      ],
      "id": "acc3701a"
    },
    {
      "cell_type": "markdown",
      "metadata": {
        "id": "e0433e30"
      },
      "source": [
        "#### 33. How to get the dates of yesterday, today and tomorrow? (★☆☆)"
      ],
      "id": "e0433e30"
    },
    {
      "cell_type": "code",
      "execution_count": 2,
      "metadata": {
        "id": "9c4d2152",
        "colab": {
          "base_uri": "https://localhost:8080/"
        },
        "outputId": "49a5054d-1b76-4f0b-bd08-9a5831e56749"
      },
      "outputs": [
        {
          "output_type": "stream",
          "name": "stdout",
          "text": [
            "['2023-09-28' '2023-09-29' '2023-09-30']\n"
          ]
        }
      ],
      "source": [
        "import numpy as np\n",
        "start= np.datetime64('2023-09-28')\n",
        "end= np.datetime64('2023-09-30')\n",
        "\n",
        "dates = np.arange(start, end+ np.timedelta64(1, 'D'))\n",
        "\n",
        "print(dates)"
      ],
      "id": "9c4d2152"
    },
    {
      "cell_type": "markdown",
      "metadata": {
        "id": "9f52a2ef"
      },
      "source": [
        "#### 34. How to get all the dates corresponding to the month of July 2016? (★★☆)"
      ],
      "id": "9f52a2ef"
    },
    {
      "cell_type": "code",
      "execution_count": 3,
      "metadata": {
        "id": "d6c34dec",
        "colab": {
          "base_uri": "https://localhost:8080/"
        },
        "outputId": "ce776e8c-ddb6-43e7-b8fb-9be7399baff3"
      },
      "outputs": [
        {
          "output_type": "stream",
          "name": "stdout",
          "text": [
            "['2016-07-01' '2016-07-02' '2016-07-03' ... '2023-09-28' '2023-09-29'\n",
            " '2023-09-30']\n"
          ]
        }
      ],
      "source": [
        "start= np.datetime64('2016-07-01')\n",
        "end= np.datetime64('2023-09-30')\n",
        "\n",
        "dates = np.arange(start, end+ np.timedelta64(1, 'D'))\n",
        "\n",
        "print(dates)"
      ],
      "id": "d6c34dec"
    },
    {
      "cell_type": "markdown",
      "metadata": {
        "id": "4a64e059"
      },
      "source": [
        "#### 35. How to compute ((A+B)*(-A/2)) in place (without copy)? (★★☆)"
      ],
      "id": "4a64e059"
    },
    {
      "cell_type": "code",
      "execution_count": null,
      "metadata": {
        "id": "49267f60"
      },
      "outputs": [],
      "source": [
        "# first solve the first pracits (A+B)\n",
        "# then compute (-A/2)\n",
        "# then multiply the first and the secound pracits"
      ],
      "id": "49267f60"
    },
    {
      "cell_type": "markdown",
      "metadata": {
        "id": "8a98c2a8"
      },
      "source": [
        "#### 36. Extract the integer part of a random array of positive numbers using 4 different methods (★★☆)"
      ],
      "id": "8a98c2a8"
    },
    {
      "cell_type": "code",
      "execution_count": 7,
      "metadata": {
        "id": "368130b3",
        "colab": {
          "base_uri": "https://localhost:8080/"
        },
        "outputId": "00536c0b-e36f-48a1-f085-29db892a6be0"
      },
      "outputs": [
        {
          "output_type": "stream",
          "name": "stdout",
          "text": [
            "[0. 0. 0. 0. 0.]\n"
          ]
        }
      ],
      "source": [
        "random_array = np.random.rand(5)\n",
        "arr=np.floor(random_array)\n",
        "print(arr)"
      ],
      "id": "368130b3"
    },
    {
      "cell_type": "code",
      "source": [
        "arr=np.trunc(random_array)\n",
        "\n",
        "print(arr)"
      ],
      "metadata": {
        "colab": {
          "base_uri": "https://localhost:8080/"
        },
        "id": "U5mW4ShlAmt7",
        "outputId": "019b7d4b-02bb-41ea-fa5f-1491e4f9ca6d"
      },
      "id": "U5mW4ShlAmt7",
      "execution_count": 8,
      "outputs": [
        {
          "output_type": "stream",
          "name": "stdout",
          "text": [
            "[0. 0. 0. 0. 0.]\n"
          ]
        }
      ]
    },
    {
      "cell_type": "code",
      "source": [
        "arr=np.subtract(np.ceil(random_array), 1)\n",
        "\n",
        "print(arr)"
      ],
      "metadata": {
        "colab": {
          "base_uri": "https://localhost:8080/"
        },
        "id": "nvd3UzpbAnnl",
        "outputId": "840ce4b8-4300-452d-ae8f-a264bddac953"
      },
      "id": "nvd3UzpbAnnl",
      "execution_count": 9,
      "outputs": [
        {
          "output_type": "stream",
          "name": "stdout",
          "text": [
            "[0. 0. 0. 0. 0.]\n"
          ]
        }
      ]
    },
    {
      "cell_type": "code",
      "source": [
        "arr=random_array.astype(int)\n",
        "\n",
        "print(arr)"
      ],
      "metadata": {
        "colab": {
          "base_uri": "https://localhost:8080/"
        },
        "id": "0ALihvzxAn3l",
        "outputId": "a18b0cfc-a43e-47b8-af5b-a6235a049995"
      },
      "id": "0ALihvzxAn3l",
      "execution_count": 11,
      "outputs": [
        {
          "output_type": "stream",
          "name": "stdout",
          "text": [
            "[0 0 0 0 0]\n"
          ]
        }
      ]
    },
    {
      "cell_type": "markdown",
      "metadata": {
        "id": "5a2e3d85"
      },
      "source": [
        "#### 37. Create a 5x5 matrix with row values ranging from 0 to 4 (★★☆)"
      ],
      "id": "5a2e3d85"
    },
    {
      "cell_type": "code",
      "execution_count": 4,
      "metadata": {
        "id": "1d974e8f",
        "colab": {
          "base_uri": "https://localhost:8080/"
        },
        "outputId": "e68eb356-108c-406a-aee0-2ca3b990c58e"
      },
      "outputs": [
        {
          "output_type": "execute_result",
          "data": {
            "text/plain": [
              "array([[3, 3, 1, 1, 0],\n",
              "       [1, 2, 2, 2, 2],\n",
              "       [2, 0, 1, 2, 2],\n",
              "       [1, 0, 0, 1, 0],\n",
              "       [3, 3, 0, 2, 3]])"
            ]
          },
          "metadata": {},
          "execution_count": 4
        }
      ],
      "source": [
        "m=np.random.randint(0,4,25).reshape(5,5)\n",
        "m"
      ],
      "id": "1d974e8f"
    },
    {
      "cell_type": "markdown",
      "metadata": {
        "id": "9720e2d5"
      },
      "source": [
        "#### 38. Consider a generator function that generates 10 integers and use it to build an array (★☆☆)"
      ],
      "id": "9720e2d5"
    },
    {
      "cell_type": "code",
      "execution_count": 44,
      "metadata": {
        "id": "e5dd8fc9",
        "colab": {
          "base_uri": "https://localhost:8080/"
        },
        "outputId": "1e98fe24-61a6-416a-904d-7e8c22b15fdc"
      },
      "outputs": [
        {
          "output_type": "execute_result",
          "data": {
            "text/plain": [
              "array([0, 2, 0, 7, 0, 7, 8, 1, 5, 6])"
            ]
          },
          "metadata": {},
          "execution_count": 44
        }
      ],
      "source": [
        "arr=np.random.randint(0,10,10)\n",
        "arr"
      ],
      "id": "e5dd8fc9"
    },
    {
      "cell_type": "markdown",
      "metadata": {
        "id": "c6f2c912"
      },
      "source": [
        "#### 39. Create a vector of size 10 with values ranging from 0 to 1, both excluded (★★☆)"
      ],
      "id": "c6f2c912"
    },
    {
      "cell_type": "code",
      "execution_count": 5,
      "metadata": {
        "id": "6aaa27d3",
        "colab": {
          "base_uri": "https://localhost:8080/"
        },
        "outputId": "28c8d154-7ed1-4414-8a82-a4fef3ace5dd"
      },
      "outputs": [
        {
          "output_type": "execute_result",
          "data": {
            "text/plain": [
              "array([0, 1, 1, 1, 1, 1, 1, 1, 0, 0])"
            ]
          },
          "metadata": {},
          "execution_count": 5
        }
      ],
      "source": [
        "m=np.random.randint(0,2,10)\n",
        "m"
      ],
      "id": "6aaa27d3"
    },
    {
      "cell_type": "markdown",
      "metadata": {
        "id": "a36d6ee4"
      },
      "source": [
        "#### 40. Create a random vector of size 10 and sort it (★★☆)"
      ],
      "id": "a36d6ee4"
    },
    {
      "cell_type": "code",
      "execution_count": 11,
      "metadata": {
        "id": "e589d216",
        "colab": {
          "base_uri": "https://localhost:8080/"
        },
        "outputId": "553a65f9-5d56-42c8-950a-e400e2464e8b"
      },
      "outputs": [
        {
          "output_type": "stream",
          "name": "stdout",
          "text": [
            "[0 3 4 5 6 6 7 7 7 9]\n"
          ]
        }
      ],
      "source": [
        "m=np.random.randint(0,10,10)\n",
        "m=np.sort(m)\n",
        "print(m)"
      ],
      "id": "e589d216"
    },
    {
      "cell_type": "markdown",
      "metadata": {
        "id": "0fb4ad68"
      },
      "source": [
        "#### 41. How to sum a small array faster than np.sum? (★★☆)"
      ],
      "id": "0fb4ad68"
    },
    {
      "cell_type": "code",
      "execution_count": null,
      "metadata": {
        "id": "a1ba05a0"
      },
      "outputs": [],
      "source": [
        "# if you need to sum a small array faster than np.sum(), you can consider using the built-in sum()\n",
        "# function in Python instead. The sum() function is generally faster for small arrays\n",
        "# because it has less overhead compared to np.sum(), which is more optimized for larger arrays and supports various advanced features."
      ],
      "id": "a1ba05a0"
    },
    {
      "cell_type": "markdown",
      "metadata": {
        "id": "024ac365"
      },
      "source": [
        "#### 42. Consider two random array A and B, check if they are equal (★★☆)"
      ],
      "id": "024ac365"
    },
    {
      "cell_type": "code",
      "execution_count": 12,
      "metadata": {
        "id": "7db3846d",
        "colab": {
          "base_uri": "https://localhost:8080/"
        },
        "outputId": "f7d3034a-640d-46b7-bc87-e34723e784fb"
      },
      "outputs": [
        {
          "output_type": "execute_result",
          "data": {
            "text/plain": [
              "False"
            ]
          },
          "metadata": {},
          "execution_count": 12
        }
      ],
      "source": [
        "A = np.random.randint(0,10,9).reshape(3,3)\n",
        "B = np.random.randint(0,10,9).reshape(3,3)\n",
        "np.array_equal(A, B)"
      ],
      "id": "7db3846d"
    },
    {
      "cell_type": "markdown",
      "metadata": {
        "id": "c68d2401"
      },
      "source": [
        "#### 43. Make an array immutable (read-only) (★★☆)"
      ],
      "id": "c68d2401"
    },
    {
      "cell_type": "code",
      "execution_count": 2,
      "metadata": {
        "id": "7828539d"
      },
      "outputs": [],
      "source": [
        "import numpy as np\n",
        "arr= np.array([1,2,3,4,5])\n",
        "arr.flags.writeable = False"
      ],
      "id": "7828539d"
    },
    {
      "cell_type": "markdown",
      "metadata": {
        "id": "55df6280"
      },
      "source": [
        "#### 44. Consider a random 10x2 matrix representing cartesian coordinates, convert them to polar coordinates (★★☆)"
      ],
      "id": "55df6280"
    },
    {
      "cell_type": "code",
      "execution_count": 6,
      "metadata": {
        "id": "f1c86ea0",
        "colab": {
          "base_uri": "https://localhost:8080/"
        },
        "outputId": "4f85f61c-9f4e-4d94-e226-16cef3cb7fbd"
      },
      "outputs": [
        {
          "output_type": "stream",
          "name": "stdout",
          "text": [
            "[[0.94469919 1.08255097]\n",
            " [0.58937892 1.13630646]\n",
            " [1.12048942 0.99168905]\n",
            " [0.98305012 1.13033521]\n",
            " [0.79155627 0.81807472]\n",
            " [0.92602779 1.21913827]\n",
            " [0.85251355 0.7234502 ]\n",
            " [1.1126426  0.98469975]\n",
            " [0.9464376  0.92582697]\n",
            " [0.87873855 0.35388406]]\n"
          ]
        }
      ],
      "source": [
        "cartesian_coords = np.random.rand(10, 2)\n",
        "x = cartesian_coords[:, 0]\n",
        "y = cartesian_coords[:, 1]\n",
        "rho = np.hypot(x, y)\n",
        "theta = np.arctan2(y, x)\n",
        "polar_coords=np.column_stack((rho, theta))\n",
        "print(polar_coords)"
      ],
      "id": "f1c86ea0"
    },
    {
      "cell_type": "markdown",
      "metadata": {
        "id": "2f60f1ec"
      },
      "source": [
        "#### 45. Create random vector of size 10 and replace the maximum value by 0 (★★☆)"
      ],
      "id": "2f60f1ec"
    },
    {
      "cell_type": "code",
      "execution_count": 9,
      "metadata": {
        "id": "d9f48f1c",
        "colab": {
          "base_uri": "https://localhost:8080/"
        },
        "outputId": "61394ba8-bf39-4b45-b5df-a9161fd25735"
      },
      "outputs": [
        {
          "output_type": "stream",
          "name": "stdout",
          "text": [
            "[7 6 7 3 5 7 0 8 0 1]\n",
            "[7 6 7 3 5 7 0 0 0 1]\n"
          ]
        }
      ],
      "source": [
        "arr=np.random.randint(0,10,10)\n",
        "max=np.max(arr)\n",
        "print(arr)\n",
        "arr[arr==max] = 0\n",
        "print(arr)"
      ],
      "id": "d9f48f1c"
    },
    {
      "cell_type": "markdown",
      "metadata": {
        "id": "084e8ad4"
      },
      "source": [
        "#### 46. Create a structured array with `x` and `y` coordinates covering the [0,1]x[0,1] area (★★☆)"
      ],
      "id": "084e8ad4"
    },
    {
      "cell_type": "code",
      "execution_count": 11,
      "metadata": {
        "id": "58b47c13",
        "colab": {
          "base_uri": "https://localhost:8080/"
        },
        "outputId": "61208271-84b7-4d15-960b-4067b827e502"
      },
      "outputs": [
        {
          "output_type": "stream",
          "name": "stdout",
          "text": [
            "[[0.   0.  ]\n",
            " [0.25 0.  ]\n",
            " [0.5  0.  ]\n",
            " [0.75 0.  ]\n",
            " [1.   0.  ]\n",
            " [0.   0.5 ]\n",
            " [0.25 0.5 ]\n",
            " [0.5  0.5 ]\n",
            " [0.75 0.5 ]\n",
            " [1.   0.5 ]\n",
            " [0.   1.  ]\n",
            " [0.25 1.  ]\n",
            " [0.5  1.  ]\n",
            " [0.75 1.  ]\n",
            " [1.   1.  ]]\n"
          ]
        }
      ],
      "source": [
        "x = np.linspace(0, 1, num=5)\n",
        "y = np.linspace(0, 1, num=3)\n",
        "grid = np.meshgrid(x, y)\n",
        "arr = np.stack(grid, axis=-1).reshape(-1, 2)\n",
        "print(arr)"
      ],
      "id": "58b47c13"
    },
    {
      "cell_type": "markdown",
      "metadata": {
        "id": "d7b9bc42"
      },
      "source": [
        "#### 47. Given two arrays, X and Y, construct the Cauchy matrix C (Cij =1/(xi - yj)) (★★☆)"
      ],
      "id": "d7b9bc42"
    },
    {
      "cell_type": "code",
      "execution_count": 12,
      "metadata": {
        "id": "a24824fb",
        "colab": {
          "base_uri": "https://localhost:8080/"
        },
        "outputId": "4d064672-d02e-4c8e-e165-d82720cc2353"
      },
      "outputs": [
        {
          "output_type": "stream",
          "name": "stdout",
          "text": [
            "[[-0.33333333 -0.25      ]\n",
            " [-0.5        -0.33333333]\n",
            " [-1.         -0.5       ]]\n"
          ]
        }
      ],
      "source": [
        "x = np.array([1, 2, 3])\n",
        "y = np.array([4, 5])\n",
        "c = 1 / (x[:, np.newaxis] - y)\n",
        "print(c)"
      ],
      "id": "a24824fb"
    },
    {
      "cell_type": "markdown",
      "metadata": {
        "id": "65ebc11b"
      },
      "source": [
        "#### 48. Print the minimum and maximum representable value for each numpy scalar type (★★☆)"
      ],
      "id": "65ebc11b"
    },
    {
      "cell_type": "code",
      "execution_count": 14,
      "metadata": {
        "id": "e45d38fb"
      },
      "outputs": [],
      "source": [],
      "id": "e45d38fb"
    },
    {
      "cell_type": "markdown",
      "metadata": {
        "id": "9b317a98"
      },
      "source": [
        "#### 49. How to print all the values of an array? (★★☆)"
      ],
      "id": "9b317a98"
    },
    {
      "cell_type": "code",
      "execution_count": 23,
      "metadata": {
        "id": "309cdeb9",
        "colab": {
          "base_uri": "https://localhost:8080/"
        },
        "outputId": "afd937b8-ee38-4da1-8245-76b4cc0698d8"
      },
      "outputs": [
        {
          "output_type": "stream",
          "name": "stdout",
          "text": [
            "1\n",
            "2\n",
            "3\n",
            "4\n",
            "5\n",
            "6\n",
            "7\n",
            "8\n",
            "9\n",
            "10\n",
            "11\n",
            "12\n",
            "13\n",
            "14\n",
            "12\n"
          ]
        }
      ],
      "source": [
        "arr=np.array([\n",
        "    [1,2,3,4,5],\n",
        "    [6,7,8,9,10],\n",
        "    [11,12,13,14,12]\n",
        "    ])\n",
        "for i in range(arr.shape[0]):\n",
        "  for j in range(arr.shape[1]):\n",
        "    print(arr[i,j])"
      ],
      "id": "309cdeb9"
    },
    {
      "cell_type": "markdown",
      "metadata": {
        "id": "b580f9d0"
      },
      "source": [
        "#### 50. How to find the closest value (to a given scalar) in a vector? (★★☆)"
      ],
      "id": "b580f9d0"
    },
    {
      "cell_type": "code",
      "execution_count": 27,
      "metadata": {
        "id": "ebfb6714",
        "colab": {
          "base_uri": "https://localhost:8080/"
        },
        "outputId": "de5a8a69-a88e-4760-c87b-8a7686766e61"
      },
      "outputs": [
        {
          "output_type": "stream",
          "name": "stdout",
          "text": [
            "3\n"
          ]
        }
      ],
      "source": [
        "arr = np.random.randint(0,10,10)\n",
        "scalar = 0.5\n",
        "res = arr[np.argmin(np.abs(arr - scalar))]\n",
        "print(res)"
      ],
      "id": "ebfb6714"
    },
    {
      "cell_type": "markdown",
      "metadata": {
        "id": "602e6252"
      },
      "source": [
        "#### 51. Create a structured array representing a position (x,y) and a color (r,g,b) (★★☆)"
      ],
      "id": "602e6252"
    },
    {
      "cell_type": "code",
      "execution_count": 25,
      "metadata": {
        "id": "cf002b3a",
        "colab": {
          "base_uri": "https://localhost:8080/"
        },
        "outputId": "727ba869-b001-4ce7-de63-30d038cec02f"
      },
      "outputs": [
        {
          "output_type": "stream",
          "name": "stdout",
          "text": [
            "[((1.,  6.), (255,   0,   0)) ((2.,  7.), (  0, 255,   0))\n",
            " ((3.,  8.), (  0,   0, 255)) ((4.,  9.), (  0,   0,   0))\n",
            " ((5., 10.), (255, 255, 255))]\n"
          ]
        }
      ],
      "source": [
        "dtype = np.dtype([('position', [('x', float), ('y', float)]),\n",
        "                  ('color', [('r', int), ('g', int), ('b', int)])])\n",
        "structured_array = np.zeros((5,), dtype=dtype)\n",
        "structured_array['position']['x'] = [1.0, 2.0, 3.0, 4.0, 5.0]\n",
        "structured_array['position']['y'] = [6.0, 7.0, 8.0, 9.0, 10.0]\n",
        "structured_array['color']['r'] = [255, 0, 0, 0, 255]\n",
        "structured_array['color']['g'] = [0, 255, 0, 0, 255]\n",
        "structured_array['color']['b'] = [0, 0, 255, 0, 255]\n",
        "print(structured_array)"
      ],
      "id": "cf002b3a"
    },
    {
      "cell_type": "markdown",
      "metadata": {
        "id": "78bcd92f"
      },
      "source": [
        "#### 52. Consider a random vector with shape (100,2) representing coordinates, find point by point distances (★★☆)"
      ],
      "id": "78bcd92f"
    },
    {
      "cell_type": "code",
      "execution_count": null,
      "metadata": {
        "id": "fea7f9a6"
      },
      "outputs": [],
      "source": [],
      "id": "fea7f9a6"
    },
    {
      "cell_type": "markdown",
      "metadata": {
        "id": "343c5a85"
      },
      "source": [
        "#### 53. How to convert a float (32 bits) array into an integer (32 bits) in place?"
      ],
      "id": "343c5a85"
    },
    {
      "cell_type": "code",
      "execution_count": 28,
      "metadata": {
        "id": "fc1b687b",
        "colab": {
          "base_uri": "https://localhost:8080/"
        },
        "outputId": "de5df32a-505a-43d8-8f7b-c08ed811e59d"
      },
      "outputs": [
        {
          "output_type": "stream",
          "name": "stdout",
          "text": [
            "[1.2 2.5 3.8 4.1]\n"
          ]
        }
      ],
      "source": [
        "arr= np.array([1.2, 2.5, 3.8, 4.1], dtype=np.float32)\n",
        "arr.astype(np.int32, copy=False)\n",
        "\n",
        "print(arr)"
      ],
      "id": "fc1b687b"
    },
    {
      "cell_type": "markdown",
      "metadata": {
        "id": "a69e1ace"
      },
      "source": [
        "#### 54. How to read the following file? (★★☆)\n",
        "```\n",
        "1, 2, 3, 4, 5\n",
        "6,  ,  , 7, 8\n",
        " ,  , 9,10,11\n",
        "```"
      ],
      "id": "a69e1ace"
    },
    {
      "cell_type": "code",
      "execution_count": 43,
      "metadata": {
        "id": "1c7957d4",
        "colab": {
          "base_uri": "https://localhost:8080/"
        },
        "outputId": "0bb604d8-490d-451d-af96-c61b7baebc37"
      },
      "outputs": [
        {
          "name": "stdout",
          "output_type": "stream",
          "text": [
            "1\n",
            "2\n",
            "3\n",
            "4\n",
            "5\n",
            "6\n",
            "\n",
            "\n",
            "7\n",
            "8\n",
            "\n",
            "\n",
            "9\n",
            "10\n",
            "11\n"
          ]
        },
        {
          "output_type": "execute_result",
          "data": {
            "text/plain": [
              "array([[ 1.,  2.,  3.,  4.,  5.],\n",
              "       [ 6., nan, nan,  7.,  8.],\n",
              "       [nan, nan,  9., 10., 11.]])"
            ]
          },
          "metadata": {},
          "execution_count": 43
        }
      ],
      "source": [
        "arr=np.zeros(15).reshape(3,5)\n",
        "for i in range(arr.shape[0]):\n",
        "  for j in range(arr.shape[1]):\n",
        "    try:\n",
        "      arr[i][j]=int(input())\n",
        "    except:\n",
        "      arr[i][j]=None\n",
        "arr"
      ],
      "id": "1c7957d4"
    },
    {
      "cell_type": "markdown",
      "metadata": {
        "id": "c23bd80d"
      },
      "source": [
        "#### 55. What is the equivalent of enumerate for numpy arrays? (★★☆)"
      ],
      "id": "c23bd80d"
    },
    {
      "cell_type": "code",
      "execution_count": null,
      "metadata": {
        "id": "d95d9578"
      },
      "outputs": [],
      "source": [],
      "id": "d95d9578"
    },
    {
      "cell_type": "markdown",
      "metadata": {
        "id": "2153a5ec"
      },
      "source": [
        "#### 56. Generate a generic 2D Gaussian-like array (★★☆)"
      ],
      "id": "2153a5ec"
    },
    {
      "cell_type": "code",
      "execution_count": null,
      "metadata": {
        "id": "61122d1e"
      },
      "outputs": [],
      "source": [],
      "id": "61122d1e"
    },
    {
      "cell_type": "markdown",
      "metadata": {
        "id": "2e76d589"
      },
      "source": [
        "#### 57. How to randomly place p elements in a 2D array? (★★☆)"
      ],
      "id": "2e76d589"
    },
    {
      "cell_type": "code",
      "execution_count": 19,
      "metadata": {
        "id": "0c2e4fcc",
        "colab": {
          "base_uri": "https://localhost:8080/"
        },
        "outputId": "6ca3646d-4a43-492f-d668-3541cd5619e4"
      },
      "outputs": [
        {
          "output_type": "execute_result",
          "data": {
            "text/plain": [
              "array([[1, 2, 3],\n",
              "       [1, 1, 1],\n",
              "       [1, 5, 1]])"
            ]
          },
          "metadata": {},
          "execution_count": 19
        }
      ],
      "source": [
        "arr = np.array([\n",
        "    [1,2,3],\n",
        "    [2,3,4],\n",
        "    [4,5,6]\n",
        "])\n",
        "p=5\n",
        "res=np.random.choice(range(arr.size),p,replace=False)\n",
        "arr.flat[res] = 1\n",
        "arr"
      ],
      "id": "0c2e4fcc"
    },
    {
      "cell_type": "markdown",
      "metadata": {
        "id": "8b3933eb"
      },
      "source": [
        "#### 58. Subtract the mean of each row of a matrix (★★☆)"
      ],
      "id": "8b3933eb"
    },
    {
      "cell_type": "code",
      "execution_count": 9,
      "metadata": {
        "id": "a306c9ef",
        "colab": {
          "base_uri": "https://localhost:8080/"
        },
        "outputId": "2c33250a-ef2c-4f57-afc7-5a241072cf4a"
      },
      "outputs": [
        {
          "output_type": "execute_result",
          "data": {
            "text/plain": [
              "array([[-1.,  0.,  1.],\n",
              "       [-1.,  0.,  1.],\n",
              "       [-1.,  0.,  1.]])"
            ]
          },
          "metadata": {},
          "execution_count": 9
        }
      ],
      "source": [
        "arr = np.array([\n",
        "    [1,2,3],\n",
        "    [2,3,4],\n",
        "    [4,5,6]\n",
        "])\n",
        "m= arr-np.mean(arr,axis=1,keepdims=True)\n",
        "m"
      ],
      "id": "a306c9ef"
    },
    {
      "cell_type": "markdown",
      "metadata": {
        "id": "ea8807c0"
      },
      "source": [
        "#### 59. How to sort an array by the nth column? (★★☆)"
      ],
      "id": "ea8807c0"
    },
    {
      "cell_type": "code",
      "execution_count": 26,
      "metadata": {
        "id": "cc89a699"
      },
      "outputs": [],
      "source": [],
      "id": "cc89a699"
    },
    {
      "cell_type": "markdown",
      "metadata": {
        "id": "00fa00a1"
      },
      "source": [
        "#### 60. How to tell if a given 2D array has null columns? (★★☆)"
      ],
      "id": "00fa00a1"
    },
    {
      "cell_type": "code",
      "execution_count": 27,
      "metadata": {
        "id": "3436e165",
        "colab": {
          "base_uri": "https://localhost:8080/"
        },
        "outputId": "92aeb5b9-a24d-4324-8edf-05209aa289f8"
      },
      "outputs": [
        {
          "output_type": "stream",
          "name": "stdout",
          "text": [
            "the array has the coloumn index 1 is null\n"
          ]
        }
      ],
      "source": [
        "arr = np.array([\n",
        "    [1,2,3,None],\n",
        "    [None,None,None,None],\n",
        "    [4,5,6,None]\n",
        "])\n",
        "flag=0\n",
        "for i in range(arr.shape[0]):\n",
        "  for j in range(arr.shape[1]):\n",
        "    if arr[i][j]==None:\n",
        "      flag+=1\n",
        "    if flag==arr.shape[1]:\n",
        "      print(f\"the array has the coloumn index {i} is null\")\n",
        "  flag=0\n"
      ],
      "id": "3436e165"
    },
    {
      "cell_type": "markdown",
      "metadata": {
        "id": "5a65c7a2"
      },
      "source": [
        "#### 61. Find the nearest value from a given value in an array (★★☆)"
      ],
      "id": "5a65c7a2"
    },
    {
      "cell_type": "code",
      "execution_count": null,
      "metadata": {
        "id": "73f149d6"
      },
      "outputs": [],
      "source": [],
      "id": "73f149d6"
    },
    {
      "cell_type": "markdown",
      "metadata": {
        "id": "dd83e8af"
      },
      "source": [
        "#### 62. Considering two arrays with shape (1,3) and (3,1), how to compute their sum using an iterator? (★★☆)"
      ],
      "id": "dd83e8af"
    },
    {
      "cell_type": "code",
      "execution_count": 33,
      "metadata": {
        "id": "29a709a1",
        "colab": {
          "base_uri": "https://localhost:8080/"
        },
        "outputId": "cce706f6-4bba-4e2c-b353-d4400200b5e1"
      },
      "outputs": [
        {
          "output_type": "stream",
          "name": "stdout",
          "text": [
            "21\n"
          ]
        }
      ],
      "source": [
        "arr= np.array([[1, 2, 3]])\n",
        "arr2= np.array([[4],\n",
        "                [5],\n",
        "                [6]])\n",
        "\n",
        "res= 0\n",
        "for i in range(3):\n",
        "  res+=arr[0][i]+arr2[i][0]\n",
        "print(res)"
      ],
      "id": "29a709a1"
    },
    {
      "cell_type": "markdown",
      "metadata": {
        "id": "6c042efa"
      },
      "source": [
        "#### 63. Create an array class that has a name attribute (★★☆)"
      ],
      "id": "6c042efa"
    },
    {
      "cell_type": "code",
      "execution_count": 29,
      "metadata": {
        "id": "45b3d2e0",
        "colab": {
          "base_uri": "https://localhost:8080/"
        },
        "outputId": "fd243d1b-1eba-4c0d-89f2-99ca850b26e6"
      },
      "outputs": [
        {
          "output_type": "stream",
          "name": "stdout",
          "text": [
            "[1, 2, 3]\n",
            "ahmed\n"
          ]
        }
      ],
      "source": [
        "class Array:\n",
        "    def __init__(self, array, name):\n",
        "        self.array = array\n",
        "        self.name = name\n",
        "arr = Array([1, 2, 3], \"ahmed\")\n",
        "print(arr.array)\n",
        "print(arr.name)"
      ],
      "id": "45b3d2e0"
    },
    {
      "cell_type": "markdown",
      "metadata": {
        "id": "0a075c3d"
      },
      "source": [
        "#### 64. Consider a given vector, how to add 1 to each element indexed by a second vector (be careful with repeated indices)? (★★★)"
      ],
      "id": "0a075c3d"
    },
    {
      "cell_type": "code",
      "execution_count": 2,
      "metadata": {
        "id": "36c50470",
        "colab": {
          "base_uri": "https://localhost:8080/"
        },
        "outputId": "4ccf8827-cbe1-451f-a0a6-32ecdf3822a4"
      },
      "outputs": [
        {
          "output_type": "execute_result",
          "data": {
            "text/plain": [
              "array([[2, 3, 4],\n",
              "       [3, 4, 5],\n",
              "       [5, 6, 7]])"
            ]
          },
          "metadata": {},
          "execution_count": 2
        }
      ],
      "source": [
        "import numpy as np\n",
        "arr = np.array([\n",
        "    [1,2,3],\n",
        "    [2,3,4],\n",
        "    [4,5,6]\n",
        "])\n",
        "arr=arr+1\n",
        "arr"
      ],
      "id": "36c50470"
    },
    {
      "cell_type": "code",
      "source": [
        "arr=np.array([1,2,3,4,5])\n",
        "a=np.array([0,2,2,4])\n",
        "np.add.at(arr,a, 1)\n",
        "\n",
        "print(arr)"
      ],
      "metadata": {
        "colab": {
          "base_uri": "https://localhost:8080/"
        },
        "id": "eNi1imo9_MIi",
        "outputId": "bd90c902-346a-4af6-faab-28ceda43c8eb"
      },
      "id": "eNi1imo9_MIi",
      "execution_count": 3,
      "outputs": [
        {
          "output_type": "stream",
          "name": "stdout",
          "text": [
            "[2 2 5 4 6]\n"
          ]
        }
      ]
    },
    {
      "cell_type": "markdown",
      "metadata": {
        "id": "0fb2f0c5"
      },
      "source": [
        "#### 65. How to accumulate elements of a vector (X) to an array (F) based on an index list (I)? (★★★)"
      ],
      "id": "0fb2f0c5"
    },
    {
      "cell_type": "code",
      "execution_count": 4,
      "metadata": {
        "id": "58aa5f82"
      },
      "outputs": [],
      "source": [],
      "id": "58aa5f82"
    },
    {
      "cell_type": "markdown",
      "metadata": {
        "id": "d89dc506"
      },
      "source": [
        "#### 66. Considering a (w,h,3) image of (dtype=ubyte), compute the number of unique colors (★★☆)"
      ],
      "id": "d89dc506"
    },
    {
      "cell_type": "code",
      "execution_count": 5,
      "metadata": {
        "id": "8fb43a49",
        "colab": {
          "base_uri": "https://localhost:8080/"
        },
        "outputId": "af159af2-0726-44fc-869c-3463cb1c4b8e"
      },
      "outputs": [
        {
          "output_type": "stream",
          "name": "stdout",
          "text": [
            "6\n"
          ]
        }
      ],
      "source": [
        "image = np.array([\n",
        "    [[255,0,0],[0,255,0],[0,0,255]],\n",
        "    [[255,0,0],[0,255,0],[0,0,255]],\n",
        "    [[255,255,0],[0,255,255],[255,0,255]]\n",
        "], dtype=np.ubyte)\n",
        "reshaped_image=image.reshape((-1,3))\n",
        "num_unique_colors=len(np.unique(reshaped_image,axis=0))\n",
        "print(num_unique_colors)"
      ],
      "id": "8fb43a49"
    },
    {
      "cell_type": "markdown",
      "metadata": {
        "id": "535a5d81"
      },
      "source": [
        "#### 67. Considering a four dimensions array, how to get sum over the last two axis at once? (★★★)"
      ],
      "id": "535a5d81"
    },
    {
      "cell_type": "code",
      "execution_count": null,
      "metadata": {
        "id": "f954ab9d"
      },
      "outputs": [],
      "source": [],
      "id": "f954ab9d"
    },
    {
      "cell_type": "markdown",
      "metadata": {
        "id": "eee66d3c"
      },
      "source": [
        "#### 68. Considering a one-dimensional vector D, how to compute means of subsets of D using a vector S of same size describing subset  indices? (★★★)"
      ],
      "id": "eee66d3c"
    },
    {
      "cell_type": "code",
      "execution_count": null,
      "metadata": {
        "id": "8929773a"
      },
      "outputs": [],
      "source": [],
      "id": "8929773a"
    },
    {
      "cell_type": "markdown",
      "metadata": {
        "id": "f90d4c40"
      },
      "source": [
        "#### 69. How to get the diagonal of a dot product? (★★★)"
      ],
      "id": "f90d4c40"
    },
    {
      "cell_type": "code",
      "execution_count": null,
      "metadata": {
        "id": "b47d392d"
      },
      "outputs": [],
      "source": [],
      "id": "b47d392d"
    },
    {
      "cell_type": "markdown",
      "metadata": {
        "id": "a8a97e7d"
      },
      "source": [
        "#### 70. Consider the vector [1, 2, 3, 4, 5], how to build a new vector with 3 consecutive zeros interleaved between each value? (★★★)"
      ],
      "id": "a8a97e7d"
    },
    {
      "cell_type": "code",
      "execution_count": null,
      "metadata": {
        "id": "ee6c6c37"
      },
      "outputs": [],
      "source": [],
      "id": "ee6c6c37"
    },
    {
      "cell_type": "markdown",
      "metadata": {
        "id": "d6a30d60"
      },
      "source": [
        "#### 71. Consider an array of dimension (5,5,3), how to mulitply it by an array with dimensions (5,5)? (★★★)"
      ],
      "id": "d6a30d60"
    },
    {
      "cell_type": "code",
      "execution_count": null,
      "metadata": {
        "id": "e9703f2e"
      },
      "outputs": [],
      "source": [],
      "id": "e9703f2e"
    },
    {
      "cell_type": "markdown",
      "metadata": {
        "id": "bac359a9"
      },
      "source": [
        "#### 72. How to swap two rows of an array? (★★★)"
      ],
      "id": "bac359a9"
    },
    {
      "cell_type": "code",
      "execution_count": null,
      "metadata": {
        "id": "f1b432b1"
      },
      "outputs": [],
      "source": [],
      "id": "f1b432b1"
    },
    {
      "cell_type": "markdown",
      "metadata": {
        "id": "620c9f83"
      },
      "source": [
        "#### 73. Consider a set of 10 triplets describing 10 triangles (with shared vertices), find the set of unique line segments composing all the  triangles (★★★)"
      ],
      "id": "620c9f83"
    },
    {
      "cell_type": "code",
      "execution_count": null,
      "metadata": {
        "id": "4e595ffc"
      },
      "outputs": [],
      "source": [],
      "id": "4e595ffc"
    },
    {
      "cell_type": "markdown",
      "metadata": {
        "id": "a76c55a2"
      },
      "source": [
        "#### 74. Given a sorted array C that corresponds to a bincount, how to produce an array A such that np.bincount(A) == C? (★★★)"
      ],
      "id": "a76c55a2"
    },
    {
      "cell_type": "code",
      "execution_count": null,
      "metadata": {
        "id": "2d2ae65a"
      },
      "outputs": [],
      "source": [],
      "id": "2d2ae65a"
    },
    {
      "cell_type": "markdown",
      "metadata": {
        "id": "d550c8e2"
      },
      "source": [
        "#### 75. How to compute averages using a sliding window over an array? (★★★)"
      ],
      "id": "d550c8e2"
    },
    {
      "cell_type": "code",
      "execution_count": null,
      "metadata": {
        "id": "841c457c"
      },
      "outputs": [],
      "source": [],
      "id": "841c457c"
    },
    {
      "cell_type": "markdown",
      "metadata": {
        "id": "6b170b00"
      },
      "source": [
        "#### 76. Consider a one-dimensional array Z, build a two-dimensional array whose first row is (Z[0],Z[1],Z[2]) and each subsequent row is  shifted by 1 (last row should be (Z[-3],Z[-2],Z[-1]) (★★★)"
      ],
      "id": "6b170b00"
    },
    {
      "cell_type": "code",
      "execution_count": null,
      "metadata": {
        "id": "d9a0cf4e"
      },
      "outputs": [],
      "source": [],
      "id": "d9a0cf4e"
    },
    {
      "cell_type": "markdown",
      "metadata": {
        "id": "e94a5c1d"
      },
      "source": [
        "#### 77. How to negate a boolean, or to change the sign of a float inplace? (★★★)"
      ],
      "id": "e94a5c1d"
    },
    {
      "cell_type": "code",
      "execution_count": null,
      "metadata": {
        "id": "c0f9504f"
      },
      "outputs": [],
      "source": [],
      "id": "c0f9504f"
    },
    {
      "cell_type": "markdown",
      "metadata": {
        "id": "4eb8b5c1"
      },
      "source": [
        "#### 78. Consider 2 sets of points P0,P1 describing lines (2d) and a point p, how to compute distance from p to each line i (P0[i],P1[i])? (★★★)"
      ],
      "id": "4eb8b5c1"
    },
    {
      "cell_type": "code",
      "execution_count": null,
      "metadata": {
        "id": "487f47ec"
      },
      "outputs": [],
      "source": [],
      "id": "487f47ec"
    },
    {
      "cell_type": "markdown",
      "metadata": {
        "id": "3df99948"
      },
      "source": [
        "#### 79. Consider 2 sets of points P0,P1 describing lines (2d) and a set of points P, how to compute distance from each point j (P[j]) to each line i (P0[i],P1[i])? (★★★)"
      ],
      "id": "3df99948"
    },
    {
      "cell_type": "code",
      "execution_count": null,
      "metadata": {
        "id": "dc2df37b"
      },
      "outputs": [],
      "source": [],
      "id": "dc2df37b"
    },
    {
      "cell_type": "markdown",
      "metadata": {
        "id": "11e972c2"
      },
      "source": [
        "#### 80. Consider an arbitrary array, write a function that extract a subpart with a fixed shape and centered on a given element (pad with a `fill` value when necessary) (★★★)"
      ],
      "id": "11e972c2"
    },
    {
      "cell_type": "code",
      "execution_count": null,
      "metadata": {
        "id": "0291247f"
      },
      "outputs": [],
      "source": [],
      "id": "0291247f"
    },
    {
      "cell_type": "markdown",
      "metadata": {
        "id": "93cfeab3"
      },
      "source": [
        "#### 81. Consider an array Z = [1,2,3,4,5,6,7,8,9,10,11,12,13,14], how to generate an array R = [[1,2,3,4], [2,3,4,5], [3,4,5,6], ..., [11,12,13,14]]? (★★★)"
      ],
      "id": "93cfeab3"
    },
    {
      "cell_type": "code",
      "execution_count": null,
      "metadata": {
        "id": "360de791"
      },
      "outputs": [],
      "source": [],
      "id": "360de791"
    },
    {
      "cell_type": "markdown",
      "metadata": {
        "id": "4c15ceff"
      },
      "source": [
        "#### 82. Compute a matrix rank (★★★)"
      ],
      "id": "4c15ceff"
    },
    {
      "cell_type": "code",
      "execution_count": null,
      "metadata": {
        "id": "9a4272d2"
      },
      "outputs": [],
      "source": [],
      "id": "9a4272d2"
    },
    {
      "cell_type": "markdown",
      "metadata": {
        "id": "1171cb84"
      },
      "source": [
        "#### 83. How to find the most frequent value in an array?"
      ],
      "id": "1171cb84"
    },
    {
      "cell_type": "code",
      "execution_count": null,
      "metadata": {
        "id": "33e951c8"
      },
      "outputs": [],
      "source": [],
      "id": "33e951c8"
    },
    {
      "cell_type": "markdown",
      "metadata": {
        "id": "04f472aa"
      },
      "source": [
        "#### 84. Extract all the contiguous 3x3 blocks from a random 10x10 matrix (★★★)"
      ],
      "id": "04f472aa"
    },
    {
      "cell_type": "code",
      "execution_count": null,
      "metadata": {
        "id": "7aade14a"
      },
      "outputs": [],
      "source": [],
      "id": "7aade14a"
    },
    {
      "cell_type": "markdown",
      "metadata": {
        "id": "52836346"
      },
      "source": [
        "#### 85. Create a 2D array subclass such that Z[i,j] == Z[j,i] (★★★)"
      ],
      "id": "52836346"
    },
    {
      "cell_type": "code",
      "execution_count": null,
      "metadata": {
        "id": "4df70318"
      },
      "outputs": [],
      "source": [],
      "id": "4df70318"
    },
    {
      "cell_type": "markdown",
      "metadata": {
        "id": "78c43ee5"
      },
      "source": [
        "#### 86. Consider a set of p matrices with shape (n,n) and a set of p vectors with shape (n,1). How to compute the sum of of the p matrix products at once? (result has shape (n,1)) (★★★)"
      ],
      "id": "78c43ee5"
    },
    {
      "cell_type": "code",
      "execution_count": null,
      "metadata": {
        "id": "32fd2c3b"
      },
      "outputs": [],
      "source": [],
      "id": "32fd2c3b"
    },
    {
      "cell_type": "markdown",
      "metadata": {
        "id": "158f9945"
      },
      "source": [
        "#### 87. Consider a 16x16 array, how to get the block-sum (block size is 4x4)? (★★★)"
      ],
      "id": "158f9945"
    },
    {
      "cell_type": "code",
      "execution_count": null,
      "metadata": {
        "id": "5a9b808f"
      },
      "outputs": [],
      "source": [],
      "id": "5a9b808f"
    },
    {
      "cell_type": "markdown",
      "metadata": {
        "id": "2e0ad860"
      },
      "source": [
        "#### 88. How to implement the Game of Life using numpy arrays? (★★★)"
      ],
      "id": "2e0ad860"
    },
    {
      "cell_type": "code",
      "execution_count": null,
      "metadata": {
        "id": "574acff5"
      },
      "outputs": [],
      "source": [],
      "id": "574acff5"
    },
    {
      "cell_type": "markdown",
      "metadata": {
        "id": "69a892fa"
      },
      "source": [
        "#### 89. How to get the n largest values of an array (★★★)"
      ],
      "id": "69a892fa"
    },
    {
      "cell_type": "code",
      "execution_count": null,
      "metadata": {
        "id": "21b2bd48"
      },
      "outputs": [],
      "source": [],
      "id": "21b2bd48"
    },
    {
      "cell_type": "markdown",
      "metadata": {
        "id": "b55ccacc"
      },
      "source": [
        "#### 90. Given an arbitrary number of vectors, build the cartesian product (every combinations of every item) (★★★)"
      ],
      "id": "b55ccacc"
    },
    {
      "cell_type": "code",
      "execution_count": null,
      "metadata": {
        "id": "4b645da4"
      },
      "outputs": [],
      "source": [],
      "id": "4b645da4"
    },
    {
      "cell_type": "markdown",
      "metadata": {
        "id": "89187a23"
      },
      "source": [
        "#### 91. How to create a record array from a regular array? (★★★)"
      ],
      "id": "89187a23"
    },
    {
      "cell_type": "code",
      "execution_count": null,
      "metadata": {
        "id": "da94c71a"
      },
      "outputs": [],
      "source": [],
      "id": "da94c71a"
    },
    {
      "cell_type": "markdown",
      "metadata": {
        "id": "aa70d4ca"
      },
      "source": [
        "#### 92. Consider a large vector Z, compute Z to the power of 3 using 3 different methods (★★★)"
      ],
      "id": "aa70d4ca"
    },
    {
      "cell_type": "code",
      "execution_count": null,
      "metadata": {
        "id": "7cff1bf5"
      },
      "outputs": [],
      "source": [],
      "id": "7cff1bf5"
    },
    {
      "cell_type": "markdown",
      "metadata": {
        "id": "5f79dd00"
      },
      "source": [
        "#### 93. Consider two arrays A and B of shape (8,3) and (2,2). How to find rows of A that contain elements of each row of B regardless of the order of the elements in B? (★★★)"
      ],
      "id": "5f79dd00"
    },
    {
      "cell_type": "code",
      "execution_count": null,
      "metadata": {
        "id": "20c105b2"
      },
      "outputs": [],
      "source": [],
      "id": "20c105b2"
    },
    {
      "cell_type": "markdown",
      "metadata": {
        "id": "a80570cd"
      },
      "source": [
        "#### 94. Considering a 10x3 matrix, extract rows with unequal values (e.g. [2,2,3]) (★★★)"
      ],
      "id": "a80570cd"
    },
    {
      "cell_type": "code",
      "execution_count": null,
      "metadata": {
        "id": "84db8de1"
      },
      "outputs": [],
      "source": [],
      "id": "84db8de1"
    },
    {
      "cell_type": "markdown",
      "metadata": {
        "id": "ba154f43"
      },
      "source": [
        "#### 95. Convert a vector of ints into a matrix binary representation (★★★)"
      ],
      "id": "ba154f43"
    },
    {
      "cell_type": "code",
      "execution_count": null,
      "metadata": {
        "id": "cfa96e1b"
      },
      "outputs": [],
      "source": [],
      "id": "cfa96e1b"
    },
    {
      "cell_type": "markdown",
      "metadata": {
        "id": "420e2343"
      },
      "source": [
        "#### 96. Given a two dimensional array, how to extract unique rows? (★★★)"
      ],
      "id": "420e2343"
    },
    {
      "cell_type": "code",
      "execution_count": null,
      "metadata": {
        "id": "4680dfd0"
      },
      "outputs": [],
      "source": [],
      "id": "4680dfd0"
    },
    {
      "cell_type": "markdown",
      "metadata": {
        "id": "89fef2f3"
      },
      "source": [
        "#### 97. Considering 2 vectors A & B, write the einsum equivalent of inner, outer, sum, and mul function (★★★)"
      ],
      "id": "89fef2f3"
    },
    {
      "cell_type": "code",
      "execution_count": null,
      "metadata": {
        "id": "bb9c14b2"
      },
      "outputs": [],
      "source": [],
      "id": "bb9c14b2"
    },
    {
      "cell_type": "markdown",
      "metadata": {
        "id": "7ad5cc5f"
      },
      "source": [
        "#### 98. Considering a path described by two vectors (X,Y), how to sample it using equidistant samples (★★★)?"
      ],
      "id": "7ad5cc5f"
    },
    {
      "cell_type": "code",
      "execution_count": null,
      "metadata": {
        "id": "0899d1d5"
      },
      "outputs": [],
      "source": [],
      "id": "0899d1d5"
    },
    {
      "cell_type": "markdown",
      "metadata": {
        "id": "2b69272e"
      },
      "source": [
        "#### 99. Given an integer n and a 2D array X, select from X the rows which can be interpreted as draws from a multinomial distribution with n degrees, i.e., the rows which only contain integers and which sum to n. (★★★)"
      ],
      "id": "2b69272e"
    },
    {
      "cell_type": "code",
      "execution_count": null,
      "metadata": {
        "id": "55c8b034"
      },
      "outputs": [],
      "source": [],
      "id": "55c8b034"
    },
    {
      "cell_type": "markdown",
      "metadata": {
        "id": "59ab5516"
      },
      "source": [
        "#### 100. Compute bootstrapped 95% confidence intervals for the mean of a 1D array X (i.e., resample the elements of an array with replacement N times, compute the mean of each sample, and then compute percentiles over the means). (★★★)"
      ],
      "id": "59ab5516"
    },
    {
      "cell_type": "code",
      "execution_count": null,
      "metadata": {
        "id": "450877d8"
      },
      "outputs": [],
      "source": [],
      "id": "450877d8"
    }
  ],
  "metadata": {
    "colab": {
      "provenance": []
    },
    "kernelspec": {
      "display_name": "Python 3",
      "name": "python3"
    },
    "language_info": {
      "name": "python"
    }
  },
  "nbformat": 4,
  "nbformat_minor": 5
}